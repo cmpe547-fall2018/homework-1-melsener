{
 "cells": [
  {
   "cell_type": "code",
   "execution_count": 1,
   "metadata": {},
   "outputs": [
    {
     "name": "stdout",
     "output_type": "stream",
     "text": [
      "MARGINALS\n",
      "X:        [ 0.6  0.4]\n",
      "Y:        [ 0.4  0.5  0.1]\n",
      "CONDITIONALS\n",
      "X|Y:     \n",
      " [[ 0.75  0.6   0.  ]\n",
      " [ 0.25  0.4   1.  ]]\n",
      "Y|X:     \n",
      " [[ 0.5   0.5   0.  ]\n",
      " [ 0.25  0.5   0.25]]\n"
     ]
    }
   ],
   "source": [
    "import numpy as np\n",
    "\n",
    "joint_prob_table = np.array([(0.3,0.3,0), (0.1,0.2,0.1)], dtype = float)\n",
    "#Calculate marginals\n",
    "py = np.array(np.sum(joint_prob_table, axis = 0))\n",
    "px = np.array(np.sum(joint_prob_table, axis = 1))\n",
    "#Domains\n",
    "domx = np.array([1,2]).reshape(1,2)\n",
    "domy = np.array([-1,0,5]).reshape(1,3)\n",
    "#Calculate conditionals\n",
    "y_x = np.divide(joint_prob_table,px.reshape(2,1))\n",
    "x_y = np.divide(joint_prob_table,py.reshape(1,3))\n",
    "\n",
    "print(\"MARGINALS\")\n",
    "print(\"X:       \",px)\n",
    "print(\"Y:       \",py)\n",
    "print(\"CONDITIONALS\")\n",
    "print(\"X|Y:     \\n\",x_y)\n",
    "print(\"Y|X:     \\n\",y_x)"
   ]
  },
  {
   "cell_type": "code",
   "execution_count": 32,
   "metadata": {},
   "outputs": [],
   "source": [
    "def expectations(fx,px):\n",
    "    res = np.dot(fx,px.T)\n",
    "    return res\n",
    "def cond_exp(domx,x_y,key):\n",
    "    if key == 'x':\n",
    "        return np.sum(domx.T * x_y, axis=0)\n",
    "    else:\n",
    "        return np.sum(domx * x_y, axis=1)\n",
    "def covariance(x,y,mx,my,xy):\n",
    "    mx_x = x - mx\n",
    "    my_y = y - my\n",
    "    tmp = mx_x.T * my_y\n",
    "    return np.sum(tmp * xy)"
   ]
  },
  {
   "cell_type": "code",
   "execution_count": 33,
   "metadata": {},
   "outputs": [
    {
     "name": "stdout",
     "output_type": "stream",
     "text": [
      "EXPECTATIONS\n",
      "X:     [ 1.4]\n",
      "Y:     [ 0.1]\n",
      "X|Y:    \n",
      " [ 1.25  1.4   2.  ]\n",
      "Y|X:    \n",
      " [-0.5  1. ]\n",
      "COVARIANCE\n",
      "0.36\n"
     ]
    }
   ],
   "source": [
    "ex_x = expectations(domx,px)\n",
    "print(\"EXPECTATIONS\")\n",
    "print(\"X:    \",ex_x)\n",
    "ex_y = expectations(domy,py)\n",
    "print(\"Y:    \",ex_y)\n",
    "ex_x_y = cond_exp(domx,x_y,'x')\n",
    "print(\"X|Y:    \\n\",ex_x_y)\n",
    "ex_y_x = cond_exp(domy,y_x,'y')\n",
    "print(\"Y|X:    \\n\",ex_y_x)\n",
    "print(\"COVARIANCE\")\n",
    "cov = covariance(domx,domy,ex_x,ex_y,joint_prob_table)\n",
    "print(cov)"
   ]
  },
  {
   "cell_type": "code",
   "execution_count": 34,
   "metadata": {},
   "outputs": [],
   "source": [
    "def entropy(p):\n",
    "    return -np.sum(p * np.log(p))\n",
    "def joint_entropy(p):\n",
    "    _p = p.reshape(p.shape[0] * p.shape[1])\n",
    "    log2p = np.zeros(shape=_p.shape,dtype = np.float32)\n",
    "    for i in range(len(_p)):\n",
    "        if _p[i] == 0:\n",
    "            log2p[i] = 0\n",
    "        else:\n",
    "            log2p[i] = np.log(_p[i])\n",
    "    log2p = log2p.reshape(p.shape[0],p.shape[1])\n",
    "    return -np.sum(p * log2p)\n",
    "def cond_entropy(jp,cp):\n",
    "    \n",
    "    _cp = cp.reshape(cp.shape[0] * cp.shape[1])\n",
    "    log2cp = np.zeros(shape=_cp.shape,dtype = np.float32)\n",
    "    for i in range(len(_cp)):\n",
    "        if _cp[i] == 0:\n",
    "            log2cp[i] = 0\n",
    "        else:\n",
    "            log2cp[i] = np.log(_cp[i])\n",
    "    log2cp = log2cp.reshape(cp.shape[0],cp.shape[1])\n",
    "    return -np.sum(jp * log2cp)"
   ]
  },
  {
   "cell_type": "code",
   "execution_count": 35,
   "metadata": {},
   "outputs": [
    {
     "name": "stdout",
     "output_type": "stream",
     "text": [
      "Joint Entropy:     1.50478830338\n",
      "MARGINAL ENTROPIES\n",
      "H(x):     0.673011667009\n",
      "H(y):     0.943348392329\n"
     ]
    }
   ],
   "source": [
    "hxy = joint_entropy(joint_prob_table)\n",
    "print (\"Joint Entropy:    \",hxy)\n",
    "print(\"MARGINAL ENTROPIES\")\n",
    "hx = entropy(px)\n",
    "print(\"H(x):    \",hx)\n",
    "hy = entropy(py)\n",
    "print(\"H(y):    \",hy)"
   ]
  },
  {
   "cell_type": "code",
   "execution_count": 36,
   "metadata": {},
   "outputs": [
    {
     "name": "stdout",
     "output_type": "stream",
     "text": [
      "CONDITIONAL ENTROPIES\n",
      "H(Y|X):     0.831776618958\n",
      "H(X|Y):     0.561439904571\n"
     ]
    }
   ],
   "source": [
    "print(\"CONDITIONAL ENTROPIES\")\n",
    "hy_x = cond_entropy(joint_prob_table,y_x)\n",
    "print (\"H(Y|X):    \",hy_x)\n",
    "hx_y = cond_entropy(joint_prob_table,x_y)\n",
    "print (\"H(X|Y):    \",hx_y)"
   ]
  },
  {
   "cell_type": "code",
   "execution_count": 40,
   "metadata": {},
   "outputs": [],
   "source": [
    "def mutual_info(x,y,jxy):\n",
    "    xy = x.reshape(x.shape[0],1) * y.reshape(1,y.shape[0])\n",
    "    logxy = np.log(xy)\n",
    "    logjxy = np.log(jxy)\n",
    "    tmp = logjxy - logxy\n",
    "    res = 0\n",
    "    jxy = jxy.reshape(jxy.shape[0] * jxy.shape[1])\n",
    "    tmp = tmp.reshape(tmp.shape[0] * tmp.shape[1])\n",
    "    for i in range(len(tmp)):\n",
    "        if jxy[i] == 0:\n",
    "            continue\n",
    "        else:\n",
    "            res += jxy[i] * tmp[i]\n",
    "    jxy = jxy.reshape(x.shape[0],y.shape[0])\n",
    "    return res"
   ]
  },
  {
   "cell_type": "code",
   "execution_count": 41,
   "metadata": {},
   "outputs": [
    {
     "name": "stdout",
     "output_type": "stream",
     "text": [
      "I(x,y):     0.111571775657\n"
     ]
    },
    {
     "name": "stderr",
     "output_type": "stream",
     "text": [
      "/Library/Frameworks/Python.framework/Versions/3.5/lib/python3.5/site-packages/ipykernel_launcher.py:4: RuntimeWarning: divide by zero encountered in log\n",
      "  after removing the cwd from sys.path.\n"
     ]
    }
   ],
   "source": [
    "I = mutual_info(px,py,joint_prob_table)\n",
    "print (\"I(x,y):    \",I)"
   ]
  },
  {
   "cell_type": "code",
   "execution_count": 42,
   "metadata": {},
   "outputs": [
    {
     "name": "stdout",
     "output_type": "stream",
     "text": [
      "0.111571755963\n"
     ]
    }
   ],
   "source": [
    "print(hx + hy - hxy)"
   ]
  },
  {
   "cell_type": "code",
   "execution_count": null,
   "metadata": {},
   "outputs": [],
   "source": []
  }
 ],
 "metadata": {
  "kernelspec": {
   "display_name": "Python 3",
   "language": "python",
   "name": "python3"
  },
  "language_info": {
   "codemirror_mode": {
    "name": "ipython",
    "version": 3
   },
   "file_extension": ".py",
   "mimetype": "text/x-python",
   "name": "python",
   "nbconvert_exporter": "python",
   "pygments_lexer": "ipython3",
   "version": "3.5.2"
  }
 },
 "nbformat": 4,
 "nbformat_minor": 2
}
